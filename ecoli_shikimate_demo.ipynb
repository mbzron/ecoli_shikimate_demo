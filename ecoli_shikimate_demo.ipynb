{
 "cells": [
  {
   "cell_type": "code",
   "execution_count": 1,
   "metadata": {},
   "outputs": [],
   "source": [
    "%load_ext autoreload\n",
    "%autoreload"
   ]
  },
  {
   "cell_type": "code",
   "execution_count": 2,
   "metadata": {},
   "outputs": [],
   "source": [
    "from gsmodutils import GSMProject\n",
    "import cobra"
   ]
  },
  {
   "cell_type": "code",
   "execution_count": 3,
   "metadata": {},
   "outputs": [],
   "source": [
    "project = GSMProject('.')  # load project from current directory"
   ]
  },
  {
   "cell_type": "code",
   "execution_count": 38,
   "metadata": {},
   "outputs": [],
   "source": [
    "m = project.models[1]  # load E. coli GSM iJO1366 (https://www.embopress.org/doi/full/10.1038/msb.2011.65)"
   ]
  },
  {
   "cell_type": "code",
   "execution_count": 56,
   "metadata": {},
   "outputs": [],
   "source": [
    "m = project.load_model('iJO1366.json')"
   ]
  },
  {
   "cell_type": "code",
   "execution_count": 50,
   "metadata": {},
   "outputs": [
    {
     "name": "stdout",
     "output_type": "stream",
     "text": [
      "growth rate (glc): 0.9823718127269798\n"
     ]
    }
   ],
   "source": [
    "sol = m.optimize()  # maximise growth on glucose\n",
    "print('growth rate (glc):',sol.objective_value)\n",
    "project.save_conditions(m, 'glc_growth')"
   ]
  },
  {
   "cell_type": "code",
   "execution_count": 57,
   "metadata": {},
   "outputs": [
    {
     "data": {
      "text/html": [
       "\n",
       "        <table>\n",
       "            <tr>\n",
       "                <td><strong>Name</strong></td>\n",
       "                <td>iJO1366</td>\n",
       "            </tr><tr>\n",
       "                <td><strong>Memory address</strong></td>\n",
       "                <td>0x01deffdbe278</td>\n",
       "            </tr><tr>\n",
       "                <td><strong>Number of metabolites</strong></td>\n",
       "                <td>1805</td>\n",
       "            </tr><tr>\n",
       "                <td><strong>Number of reactions</strong></td>\n",
       "                <td>2583</td>\n",
       "            </tr><tr>\n",
       "                <td><strong>Number of groups</strong></td>\n",
       "                <td>0</td>\n",
       "            </tr><tr>\n",
       "                <td><strong>Objective expression</strong></td>\n",
       "                <td>1.0*BIOMASS_Ec_iJO1366_core_53p95M - 1.0*BIOMASS_Ec_iJO1366_core_53p95M_reverse_5c8b1</td>\n",
       "            </tr><tr>\n",
       "                <td><strong>Compartments</strong></td>\n",
       "                <td>cytosol, extracellular space, periplasm</td>\n",
       "            </tr>\n",
       "          </table>"
      ],
      "text/plain": [
       "<GSModutilsModel iJO1366 at 0x1deffdbe278>"
      ]
     },
     "execution_count": 57,
     "metadata": {},
     "output_type": "execute_result"
    }
   ],
   "source": [
    "m"
   ]
  },
  {
   "cell_type": "code",
   "execution_count": 61,
   "metadata": {},
   "outputs": [
    {
     "name": "stdout",
     "output_type": "stream",
     "text": [
      "growth rate (glc+xyl): 1.8015334467298485\n"
     ]
    }
   ],
   "source": [
    "m.exchanges.get_by_id('EX_xyl__D_e').bounds = (-10,1000)  # allow xylose uptake\n",
    "sol = m.optimize()\n",
    "print('growth rate (glc+xyl):',sol.objective_value)\n",
    "project.save_conditions(model=m, conditions_id='glc_and_xyl_growth')"
   ]
  },
  {
   "cell_type": "code",
   "execution_count": 60,
   "metadata": {},
   "outputs": [],
   "source": [
    "?project.save_conditions"
   ]
  },
  {
   "cell_type": "code",
   "execution_count": 52,
   "metadata": {},
   "outputs": [
    {
     "name": "stdout",
     "output_type": "stream",
     "text": [
      "growth rate (xyl): 0.80609652439725\n"
     ]
    }
   ],
   "source": [
    "m.exchanges.get_by_id('EX_glc__D_e').bounds = (0,1000)  # prevent glucose uptake\n",
    "sol = m.optimize()\n",
    "print('growth rate (xyl):',sol.objective_value)\n",
    "project.save_conditions(m, 'xyl_growth')"
   ]
  },
  {
   "cell_type": "code",
   "execution_count": 8,
   "metadata": {},
   "outputs": [],
   "source": [
    "# Had to run the following command to get gsmodutils shell commands to work:\n",
    "# set PATH=%PATH%;C:\\Users\\Admin\\AppData\\Roaming\\Python\\Python35\\Scripts"
   ]
  },
  {
   "cell_type": "code",
   "execution_count": 9,
   "metadata": {},
   "outputs": [],
   "source": [
    "# next we want to look at the pathways involved in xylose utilisation\n",
    "# authors want \"...a xylose catabolic pathway that directly flows into the \n",
    "# TCA cycle without interfering glycolysis and PPP...\"\n",
    "m_xyl = project.load_conditions('xyl_growth',m)"
   ]
  },
  {
   "cell_type": "code",
   "execution_count": 10,
   "metadata": {},
   "outputs": [],
   "source": [
    "sol = m_xyl.optimize()"
   ]
  },
  {
   "cell_type": "code",
   "execution_count": 11,
   "metadata": {},
   "outputs": [],
   "source": [
    "v = sol.fluxes"
   ]
  },
  {
   "cell_type": "code",
   "execution_count": 12,
   "metadata": {},
   "outputs": [],
   "source": [
    "# model reactions involved in the pentose phosphate pathway\n",
    "xyl_ppp_reactions = [\n",
    "    'XYLI1',  # xylose isomerase\n",
    "    'XYLK',  # xylose kinase\n",
    "    \n",
    "    #xylulose-5p and fructose-6p to ribose-5p\n",
    "    'RPE',  # ribose phosphate isomerase\n",
    "    'RPI',  # ribose phoshpate epimerase\n",
    "    'GND',  #\n",
    "    'PGL',  #\n",
    "    'G6PDH2r',  #\n",
    "    'PGI',  #\n",
    "    \n",
    "    #xylulose-5p and ribose-5p to g3p and erythrose-4p \n",
    "    'TKT1',  # transketolase 1\n",
    "    'PFK_3',  # \n",
    "    'FBA3',  #\n",
    "    'TPI',  #\n",
    "    \n",
    "    #xylulose-5p and erythrose-4p to g3p and fructose-6p\n",
    "    'TKT2',  # transketolase 2\n",
    "]"
   ]
  },
  {
   "cell_type": "code",
   "execution_count": 12,
   "metadata": {},
   "outputs": [
    {
     "name": "stdout",
     "output_type": "stream",
     "text": [
      "XYLI1 10.0\n",
      "XYLK 10.0\n",
      "RPE -1.828074279689817\n",
      "RPI -4.992205592357372\n",
      "GND 3.1962171787246763\n",
      "PGL 3.1962171787246763\n",
      "G6PDH2r 3.1962171787246763\n",
      "PGI -3.1962171787246807\n",
      "TKT1 4.239662090558438\n",
      "PFK_3 0.0\n",
      "FBA3 0.0\n",
      "TPI 4.785635817711778\n",
      "TKT2 3.932263629751745\n"
     ]
    }
   ],
   "source": [
    "# display fluxes of the PPP reactions when xylose is the carbon/energy source\n",
    "for reaction in xyl_ppp_reactions:\n",
    "    print(reaction,v[reaction])"
   ]
  },
  {
   "cell_type": "code",
   "execution_count": 14,
   "metadata": {},
   "outputs": [],
   "source": [
    "# we want to monitor the activity of this pathway, so an 'essential pathway' test is made\n",
    "# write essential pathway test, where fluxes must be within 5% of the current flux distribution\n",
    "\n",
    "# store reaction flux ranges in dictionary\n",
    "required_fluxes={}\n",
    "for reaction in xyl_ppp_reactions:\n",
    "    reaction_flux = v[reaction]\n",
    "    reaction_flux_margin = abs(reaction_flux*0.05)\n",
    "    required_fluxes[reaction] = [reaction_flux-reaction_flux_margin,reaction_flux+reaction_flux_margin]\n",
    "\n",
    "# write test file\n",
    "project.add_essential_pathway(\n",
    "    'xylose_WT_PPP',\n",
    "    description='WT pentose phosphate pathway flux on xylose',\n",
    "    reactions=[],\n",
    "    reaction_fluxes=required_fluxes,\n",
    "    conditions=['xyl_growth'],\n",
    "    models=['iJO1366.json']\n",
    ")"
   ]
  },
  {
   "cell_type": "markdown",
   "metadata": {},
   "source": [
    "now open a terminal, cd into the project directory and try running \n",
    "\n",
    "``` $ gsmodutils test```"
   ]
  },
  {
   "cell_type": "code",
   "execution_count": 53,
   "metadata": {},
   "outputs": [
    {
     "name": "stderr",
     "output_type": "stream",
     "text": [
      "Objective reaction BIOMASS_Ec_iJO1366_core_53p95M not found. Cannot set objective\n"
     ]
    }
   ],
   "source": [
    "m_xyl_glc = project.load_conditions('glc_and_xyl_growth')"
   ]
  },
  {
   "cell_type": "code",
   "execution_count": 54,
   "metadata": {},
   "outputs": [
    {
     "data": {
      "text/html": [
       "\n",
       "        <table>\n",
       "            <tr>\n",
       "                <td><strong>Name</strong></td>\n",
       "                <td>e_coli_core</td>\n",
       "            </tr><tr>\n",
       "                <td><strong>Memory address</strong></td>\n",
       "                <td>0x01de818fdfd0</td>\n",
       "            </tr><tr>\n",
       "                <td><strong>Number of metabolites</strong></td>\n",
       "                <td>72</td>\n",
       "            </tr><tr>\n",
       "                <td><strong>Number of reactions</strong></td>\n",
       "                <td>95</td>\n",
       "            </tr><tr>\n",
       "                <td><strong>Number of groups</strong></td>\n",
       "                <td>0</td>\n",
       "            </tr><tr>\n",
       "                <td><strong>Objective expression</strong></td>\n",
       "                <td>1.0*BIOMASS_Ecoli_core_w_GAM - 1.0*BIOMASS_Ecoli_core_w_GAM_reverse_712e5</td>\n",
       "            </tr><tr>\n",
       "                <td><strong>Compartments</strong></td>\n",
       "                <td>cytosol, extracellular space</td>\n",
       "            </tr>\n",
       "          </table>"
      ],
      "text/plain": [
       "<GSModutilsModel e_coli_core at 0x1de818fdfd0>"
      ]
     },
     "execution_count": 54,
     "metadata": {},
     "output_type": "execute_result"
    }
   ],
   "source": [
    "m_xyl_glc"
   ]
  },
  {
   "cell_type": "code",
   "execution_count": 34,
   "metadata": {},
   "outputs": [],
   "source": [
    "sol = m_xyl_glc.optimize()"
   ]
  },
  {
   "cell_type": "code",
   "execution_count": 35,
   "metadata": {},
   "outputs": [],
   "source": [
    "v = sol.fluxes"
   ]
  },
  {
   "cell_type": "code",
   "execution_count": 36,
   "metadata": {},
   "outputs": [
    {
     "name": "stdout",
     "output_type": "stream",
     "text": [
      "RPE 2.544557757982145 2.678481850507521 2.812405943032897\n",
      "RPI -2.3955782487704798 -2.2815030940671237 -2.1674279393637677\n",
      "GND 4.711985697345913 4.959984944574645 5.2079841918033765\n",
      "PGL 4.711985697345913 4.959984944574645 5.2079841918033765\n",
      "G6PDH2r 4.711985697345913 4.959984944574645 5.2079841918033765\n",
      "PGI 4.617818089171986 4.860861146496827 5.103904203821668\n",
      "TKT1 1.4221345693984841 1.4969837572615623 1.5718329451246404\n",
      "TPI 7.103512864052273 7.477381962160287 7.851251060268301\n",
      "TKT2 1.1224231885836609 1.181498093245959 1.240572997908257\n"
     ]
    }
   ],
   "source": [
    "# this time get ppp flux for glc+xyl solution\n",
    "required_fluxes = {}\n",
    "for reaction in xyl_ppp_reactions:\n",
    "    if reaction in v.keys():\n",
    "        reaction_flux = v[reaction]\n",
    "        reaction_flux_margin = abs(reaction_flux*0.05)\n",
    "        required_fluxes[reaction] = [reaction_flux-reaction_flux_margin,reaction_flux+reaction_flux_margin]\n",
    "        print(reaction,reaction_flux-reaction_flux_margin,reaction_flux,reaction_flux+reaction_flux_margin)\n",
    "# write another test file\n",
    "# project.add_essential_pathway(\n",
    "#     'glucose_xylose_WT_PPP',\n",
    "#     description='WT pentose phosphate pathway flux on glucose and xylose',\n",
    "#     reactions=[],\n",
    "#     reaction_fluxes=required_fluxes,\n",
    "#     conditions=['glc_and_xyl_growth'],\n",
    "#     models=['iJO1366.json']\n",
    "# )"
   ]
  },
  {
   "cell_type": "code",
   "execution_count": 32,
   "metadata": {},
   "outputs": [
    {
     "data": {
      "text/plain": [
       "['__class__',\n",
       " '__delattr__',\n",
       " '__dict__',\n",
       " '__dir__',\n",
       " '__doc__',\n",
       " '__eq__',\n",
       " '__format__',\n",
       " '__ge__',\n",
       " '__getattribute__',\n",
       " '__gt__',\n",
       " '__hash__',\n",
       " '__init__',\n",
       " '__le__',\n",
       " '__lt__',\n",
       " '__module__',\n",
       " '__ne__',\n",
       " '__new__',\n",
       " '__reduce__',\n",
       " '__reduce_ex__',\n",
       " '__repr__',\n",
       " '__setattr__',\n",
       " '__sizeof__',\n",
       " '__str__',\n",
       " '__subclasshook__',\n",
       " '__weakref__',\n",
       " '_conditions_file',\n",
       " '_context_file',\n",
       " '_designs_store',\n",
       " '_json_designs',\n",
       " '_load_config',\n",
       " '_load_py_design',\n",
       " '_project_path',\n",
       " '_py_compiled_designs',\n",
       " '_py_designs',\n",
       " '_py_func_mapper',\n",
       " '_write_conditions',\n",
       " 'add_essential_pathway',\n",
       " 'add_model',\n",
       " 'conditions',\n",
       " 'conditions_schema',\n",
       " 'config',\n",
       " 'create_project',\n",
       " 'design_path',\n",
       " 'designs',\n",
       " 'get_conditions',\n",
       " 'get_design',\n",
       " 'growth_condition',\n",
       " 'iter_models',\n",
       " 'list_conditions',\n",
       " 'list_designs',\n",
       " 'list_models',\n",
       " 'load_conditions',\n",
       " 'load_design',\n",
       " 'load_diff',\n",
       " 'load_model',\n",
       " 'model',\n",
       " 'models',\n",
       " 'project_context_lock',\n",
       " 'project_path',\n",
       " 'project_tester',\n",
       " 'run_tests',\n",
       " 'save_conditions',\n",
       " 'save_design',\n",
       " 'tests_dir',\n",
       " 'update']"
      ]
     },
     "execution_count": 32,
     "metadata": {},
     "output_type": "execute_result"
    }
   ],
   "source": [
    "dir(project)"
   ]
  },
  {
   "cell_type": "code",
   "execution_count": 37,
   "metadata": {},
   "outputs": [
    {
     "name": "stdout",
     "output_type": "stream",
     "text": [
      "e_coli_core\n"
     ]
    }
   ],
   "source": [
    "print(m_xyl_glc)"
   ]
  },
  {
   "cell_type": "code",
   "execution_count": null,
   "metadata": {},
   "outputs": [],
   "source": []
  }
 ],
 "metadata": {
  "kernelspec": {
   "display_name": "Python 3",
   "language": "python",
   "name": "python3"
  },
  "language_info": {
   "codemirror_mode": {
    "name": "ipython",
    "version": 3
   },
   "file_extension": ".py",
   "mimetype": "text/x-python",
   "name": "python",
   "nbconvert_exporter": "python",
   "pygments_lexer": "ipython3",
   "version": "3.5.6"
  }
 },
 "nbformat": 4,
 "nbformat_minor": 4
}
