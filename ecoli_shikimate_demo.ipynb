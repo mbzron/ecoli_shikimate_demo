{
 "cells": [
  {
   "cell_type": "code",
   "execution_count": 1,
   "metadata": {},
   "outputs": [],
   "source": [
    "from gsmodutils import GSMProject\n",
    "import cobra"
   ]
  },
  {
   "cell_type": "code",
   "execution_count": 2,
   "metadata": {},
   "outputs": [],
   "source": [
    "project = GSMProject('.')  # load project from current directory"
   ]
  },
  {
   "cell_type": "code",
   "execution_count": 3,
   "metadata": {},
   "outputs": [],
   "source": [
    "m = project.models[1]  # load E. coli GSM iJO1366 (https://www.embopress.org/doi/full/10.1038/msb.2011.65)"
   ]
  },
  {
   "cell_type": "code",
   "execution_count": 4,
   "metadata": {},
   "outputs": [
    {
     "name": "stdout",
     "output_type": "stream",
     "text": [
      "growth rate (glc): 0.9823718127269793\n"
     ]
    }
   ],
   "source": [
    "sol = m.optimize()  # maximise growth on glucose\n",
    "print('growth rate (glc):',sol.objective_value)\n",
    "project.save_conditions(m, 'glc_growth')"
   ]
  },
  {
   "cell_type": "code",
   "execution_count": 6,
   "metadata": {},
   "outputs": [
    {
     "name": "stdout",
     "output_type": "stream",
     "text": [
      "growth rate (glc+xyl): 1.8015334467298434\n"
     ]
    }
   ],
   "source": [
    "m.exchanges.get_by_id('EX_xyl__D_e').bounds = (-10,1000)  # allow xylose uptake\n",
    "sol = m.optimize()\n",
    "print('growth rate (glc+xyl):',sol.objective_value)\n",
    "project.save_conditions(m, 'glc_and_xyl_growth')"
   ]
  },
  {
   "cell_type": "code",
   "execution_count": 7,
   "metadata": {},
   "outputs": [
    {
     "name": "stdout",
     "output_type": "stream",
     "text": [
      "growth rate (xyl): 0.8060965243972489\n"
     ]
    }
   ],
   "source": [
    "m.exchanges.get_by_id('EX_glc__D_e').bounds = (0,1000)  # prevent glucose uptake\n",
    "sol = m.optimize()\n",
    "print('growth rate (xyl):',sol.objective_value)\n",
    "project.save_conditions(m, 'xyl_growth')"
   ]
  },
  {
   "cell_type": "code",
   "execution_count": null,
   "metadata": {},
   "outputs": [],
   "source": [
    "# Had to run the following command to get gsmodutils shell commands to work:\n",
    "# set PATH=%PATH%;C;\\Users\\Admin\\AppData\\Roaming\\Python\\Python35\\Scripts"
   ]
  },
  {
   "cell_type": "code",
   "execution_count": null,
   "metadata": {},
   "outputs": [],
   "source": []
  }
 ],
 "metadata": {
  "kernelspec": {
   "display_name": "Python 3",
   "language": "python",
   "name": "python3"
  },
  "language_info": {
   "codemirror_mode": {
    "name": "ipython",
    "version": 3
   },
   "file_extension": ".py",
   "mimetype": "text/x-python",
   "name": "python",
   "nbconvert_exporter": "python",
   "pygments_lexer": "ipython3",
   "version": "3.5.6"
  }
 },
 "nbformat": 4,
 "nbformat_minor": 4
}
