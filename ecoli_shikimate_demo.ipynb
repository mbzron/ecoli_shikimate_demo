{
 "cells": [
  {
   "cell_type": "code",
   "execution_count": 1,
   "metadata": {},
   "outputs": [],
   "source": [
    "from gsmodutils import GSMProject\n",
    "import cobra"
   ]
  },
  {
   "cell_type": "code",
   "execution_count": 2,
   "metadata": {},
   "outputs": [],
   "source": [
    "project = GSMProject('.')  # load project from current directory"
   ]
  },
  {
   "cell_type": "code",
   "execution_count": 3,
   "metadata": {},
   "outputs": [],
   "source": [
    "m = project.models[1]  # load E. coli GSM iJO1366 (https://www.embopress.org/doi/full/10.1038/msb.2011.65)"
   ]
  },
  {
   "cell_type": "code",
   "execution_count": 4,
   "metadata": {},
   "outputs": [
    {
     "name": "stdout",
     "output_type": "stream",
     "text": [
      "growth rate (glc): 0.9823718127269705\n"
     ]
    }
   ],
   "source": [
    "sol = m.optimize()  # maximise growth on glucose\n",
    "print('growth rate (glc):',sol.objective_value)\n",
    "project.save_conditions(m, 'glc_growth')"
   ]
  },
  {
   "cell_type": "code",
   "execution_count": 5,
   "metadata": {},
   "outputs": [
    {
     "name": "stdout",
     "output_type": "stream",
     "text": [
      "growth rate (glc+xyl): 1.8015334467298303\n"
     ]
    }
   ],
   "source": [
    "m.exchanges.get_by_id('EX_xyl__D_e').bounds = (-10,1000)  # allow xylose uptake\n",
    "sol = m.optimize()\n",
    "print('growth rate (glc+xyl):',sol.objective_value)\n",
    "project.save_conditions(m, 'glc_and_xyl_growth')"
   ]
  },
  {
   "cell_type": "code",
   "execution_count": 6,
   "metadata": {},
   "outputs": [
    {
     "name": "stdout",
     "output_type": "stream",
     "text": [
      "growth rate (xyl): 0.8060965243972431\n"
     ]
    }
   ],
   "source": [
    "m.exchanges.get_by_id('EX_glc__D_e').bounds = (0,1000)  # prevent glucose uptake\n",
    "sol = m.optimize()\n",
    "print('growth rate (xyl):',sol.objective_value)\n",
    "project.save_conditions(m, 'xyl_growth')"
   ]
  },
  {
   "cell_type": "code",
   "execution_count": 7,
   "metadata": {},
   "outputs": [],
   "source": [
    "# Had to run the following command to get gsmodutils shell commands to work:\n",
    "# set PATH=%PATH%;C:\\Users\\Admin\\AppData\\Roaming\\Python\\Python35\\Scripts"
   ]
  },
  {
   "cell_type": "code",
   "execution_count": 8,
   "metadata": {},
   "outputs": [],
   "source": [
    "# next we want to look at the pathways involved in xylose utilisation\n",
    "# authors want \"...a xylose catabolic pathway that directly flows into the \n",
    "# TCA cycle without interfering glycolysis and PPP...\"\n",
    "m_xyl = project.load_conditions('xyl_growth',m)"
   ]
  },
  {
   "cell_type": "code",
   "execution_count": 9,
   "metadata": {},
   "outputs": [],
   "source": [
    "sol = m_xyl.optimize()"
   ]
  },
  {
   "cell_type": "code",
   "execution_count": 10,
   "metadata": {},
   "outputs": [],
   "source": [
    "v = sol.fluxes"
   ]
  },
  {
   "cell_type": "code",
   "execution_count": 11,
   "metadata": {},
   "outputs": [],
   "source": [
    "xyl_ppp_reactions = [\n",
    "    'XYLI1',  # xylose isomerase\n",
    "    'XYLK',  # xylose kinase\n",
    "    \n",
    "    #xylulose-5p and fructose-6p to ribose-5p\n",
    "    'RPE',  # ribose phosphate isomerase\n",
    "    'RPI',  # ribose phoshpate epimerase\n",
    "    'GND',  #\n",
    "    'PGL',  #\n",
    "    'G6PDH2r',  #\n",
    "    'PGI',  #\n",
    "    \n",
    "    #xylulose-5p and ribose-5p to g3p and erythrose-4p \n",
    "    'TKT1',  # transketolase 1\n",
    "    'PFK_3',  # \n",
    "    'FBA3',  #\n",
    "    'TPI',  #\n",
    "    \n",
    "    #xylulose-5p and erythrose-4p to g3p and fructose-6p\n",
    "    'TKT2',  # transketolase 2\n",
    "]"
   ]
  },
  {
   "cell_type": "code",
   "execution_count": 12,
   "metadata": {},
   "outputs": [
    {
     "name": "stdout",
     "output_type": "stream",
     "text": [
      "XYLI1 10.0\n",
      "XYLK 10.0\n",
      "RPE -1.828074279689817\n",
      "RPI -4.992205592357372\n",
      "GND 3.1962171787246763\n",
      "PGL 3.1962171787246763\n",
      "G6PDH2r 3.1962171787246763\n",
      "PGI -3.1962171787246807\n",
      "TKT1 4.239662090558438\n",
      "PFK_3 0.0\n",
      "FBA3 0.0\n",
      "TPI 4.785635817711778\n",
      "TKT2 3.932263629751745\n"
     ]
    }
   ],
   "source": [
    "for reaction in xyl_ppp_reactions:\n",
    "    print(reaction,v[reaction])"
   ]
  },
  {
   "cell_type": "code",
   "execution_count": 15,
   "metadata": {},
   "outputs": [],
   "source": [
    "#write essential pathway test, fluxes +/- 5%\n",
    "required_fluxes={}\n",
    "for reaction in xyl_ppp_reactions:\n",
    "    reaction_flux = v[reaction]\n",
    "    reaction_flux_margin = abs(reaction_flux*0.05)\n",
    "    required_fluxes[reaction] = [reaction_flux-reaction_flux_margin,reaction_flux+reaction_flux_margin]\n",
    "    #print(reaction,reaction_flux,reaction_flux_margin)\n",
    "project.add_essential_pathway(\n",
    "    'xylose_WT_PPP_2',\n",
    "    description='WT pentose phosphate pathway flux on xylose',\n",
    "    reactions=xyl_ppp_reactions,\n",
    "    reaction_fluxes=required_fluxes,\n",
    "    conditions=['xyl_growth'],\n",
    "    models=['iJO1366.json']\n",
    ")"
   ]
  },
  {
   "cell_type": "code",
   "execution_count": null,
   "metadata": {},
   "outputs": [],
   "source": [
    "\n",
    "#flux = dict(PYR=[0.5, 1000]) # Required flux for a given reaction id\n",
    "#project.add_essential_pathway('pathway_x', description='Example pathway', reactions=reactions, reaction_fluxes=flux)"
   ]
  },
  {
   "cell_type": "code",
   "execution_count": 18,
   "metadata": {},
   "outputs": [
    {
     "name": "stdout",
     "output_type": "stream",
     "text": [
      "EX_xyl__D_e: xyl__D_e <=>  -10.0\n"
     ]
    }
   ],
   "source": [
    "print(m_xyl.reactions.EX_xyl__D_e,v['EX_xyl__D_e'])"
   ]
  },
  {
   "cell_type": "code",
   "execution_count": 59,
   "metadata": {},
   "outputs": [
    {
     "name": "stdout",
     "output_type": "stream",
     "text": [
      "DXPS: g3p_c + h_c + pyr_c --> co2_c + dxyl5p_c 0.0022852836466661967\n",
      "FBA: fdp_c <=> dhap_c + g3p_c 0.659880002629821\n",
      "GAPD: g3p_c + nad_c + pi_c <=> 13dpg_c + h_c + nadh_c 13.66097720174148\n",
      "TKT1: r5p_c + xu5p__D_c <=> g3p_c + s7p_c 4.239662090558454\n",
      "TKT2: e4p_c + xu5p__D_c <=> f6p_c + g3p_c 3.932263629751758\n",
      "TPI: dhap_c <=> g3p_c 4.785635817711799\n",
      "TRPS3: 3ig3p_c --> g3p_c + indole_c 0.04582094473631282\n"
     ]
    },
    {
     "data": {
      "text/plain": [
       "[None, None, None, None, None, None, None]"
      ]
     },
     "execution_count": 59,
     "metadata": {},
     "output_type": "execute_result"
    }
   ],
   "source": [
    "met = 'g3p_c'\n",
    "[print(x,v[x.id]) for x in m.reactions if m.metabolites.get_by_id(met) in x.metabolites and v[x.id] != 0]"
   ]
  },
  {
   "cell_type": "code",
   "execution_count": 45,
   "metadata": {},
   "outputs": [
    {
     "name": "stdout",
     "output_type": "stream",
     "text": [
      "FBA3: s17bp_c <=> dhap_c + e4p_c 4.239662090558454\n",
      "PFK_3: atp_c + s7p_c --> adp_c + h_c + s17bp_c 4.239662090558454\n"
     ]
    },
    {
     "data": {
      "text/plain": [
       "[None, None]"
      ]
     },
     "execution_count": 45,
     "metadata": {},
     "output_type": "execute_result"
    }
   ],
   "source": [
    "met = 's17bp_c'\n",
    "[print(x,v[x.id]) for x in m.reactions if m.metabolites.get_by_id(met) in x.metabolites and v[x.id] != 0]"
   ]
  },
  {
   "cell_type": "code",
   "execution_count": null,
   "metadata": {},
   "outputs": [],
   "source": []
  }
 ],
 "metadata": {
  "kernelspec": {
   "display_name": "Python 3",
   "language": "python",
   "name": "python3"
  },
  "language_info": {
   "codemirror_mode": {
    "name": "ipython",
    "version": 3
   },
   "file_extension": ".py",
   "mimetype": "text/x-python",
   "name": "python",
   "nbconvert_exporter": "python",
   "pygments_lexer": "ipython3",
   "version": "3.5.6"
  }
 },
 "nbformat": 4,
 "nbformat_minor": 4
}
