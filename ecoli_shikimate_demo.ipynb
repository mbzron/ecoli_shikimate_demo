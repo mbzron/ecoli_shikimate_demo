{
 "cells": [
  {
   "cell_type": "code",
   "execution_count": 1,
   "metadata": {},
   "outputs": [],
   "source": [
    "from gsmodutils import GSMProject\n",
    "import cobra"
   ]
  },
  {
   "cell_type": "code",
   "execution_count": 2,
   "metadata": {},
   "outputs": [],
   "source": [
    "project = GSMProject('.')  # load project from current directory"
   ]
  },
  {
   "cell_type": "code",
   "execution_count": 3,
   "metadata": {},
   "outputs": [],
   "source": [
    "m = project.models[1]  # load E. coli GSM iJO1366 (https://www.embopress.org/doi/full/10.1038/msb.2011.65)"
   ]
  },
  {
   "cell_type": "code",
   "execution_count": 4,
   "metadata": {},
   "outputs": [
    {
     "name": "stdout",
     "output_type": "stream",
     "text": [
      "growth rate (glc): 0.9823718127269786\n"
     ]
    }
   ],
   "source": [
    "sol = m.optimize()  # maximise growth on glucose\n",
    "print('growth rate (glc):',sol.objective_value)\n",
    "project.save_conditions(m, 'glc_growth')"
   ]
  },
  {
   "cell_type": "code",
   "execution_count": 5,
   "metadata": {},
   "outputs": [
    {
     "name": "stdout",
     "output_type": "stream",
     "text": [
      "growth rate (glc+xyl): 1.8015334467298432\n"
     ]
    }
   ],
   "source": [
    "m.exchanges.get_by_id('EX_xyl__D_e').bounds = (-10,1000)  # allow xylose uptake\n",
    "sol = m.optimize()\n",
    "print('growth rate (glc+xyl):',sol.objective_value)\n",
    "project.save_conditions(m, 'glc_and_xyl_growth')"
   ]
  },
  {
   "cell_type": "code",
   "execution_count": 6,
   "metadata": {},
   "outputs": [
    {
     "name": "stdout",
     "output_type": "stream",
     "text": [
      "growth rate (xyl): 0.806096524397249\n"
     ]
    }
   ],
   "source": [
    "m.exchanges.get_by_id('EX_glc__D_e').bounds = (0,1000)  # prevent glucose uptake\n",
    "sol = m.optimize()\n",
    "print('growth rate (xyl):',sol.objective_value)\n",
    "project.save_conditions(m, 'xyl_growth')"
   ]
  },
  {
   "cell_type": "code",
   "execution_count": 12,
   "metadata": {},
   "outputs": [],
   "source": [
    "# Had to run the following command to get gsmodutils shell commands to work:\n",
    "# set PATH=%PATH%;C:\\Users\\Admin\\AppData\\Roaming\\Python\\Python35\\Scripts"
   ]
  },
  {
   "cell_type": "code",
   "execution_count": 16,
   "metadata": {},
   "outputs": [],
   "source": [
    "# next we want to look at the pathways involved in xylose utilisation\n",
    "# authors want \"...a xylose catabolic pathway that directly flows into the \n",
    "# TCA cycle without interfering glycolysis and PPP...\"\n",
    "m_xyl = project.load_conditions('xyl_growth',m)"
   ]
  },
  {
   "cell_type": "code",
   "execution_count": 17,
   "metadata": {},
   "outputs": [],
   "source": [
    "sol = m_xyl.optimize()"
   ]
  },
  {
   "cell_type": "code",
   "execution_count": 18,
   "metadata": {},
   "outputs": [],
   "source": [
    "v = sol.fluxes"
   ]
  },
  {
   "cell_type": "code",
   "execution_count": 19,
   "metadata": {},
   "outputs": [],
   "source": [
    "xyl_ppp_reactions = [\n",
    "    'XYLI1',  # xylose isomerase\n",
    "    'XYLK',  # xylose kinase\n",
    "    \n",
    "    #xylulose-5p and fructose-6p to ribose-5p\n",
    "    'RPE',  # ribose phosphate isomerase\n",
    "    'RPI',  # ribose phoshpate epimerase\n",
    "    'GND',  #\n",
    "    'PGL',  #\n",
    "    'G6PDH2r',  #\n",
    "    'PGI',  #\n",
    "    \n",
    "    #xylulose-5p and ribose-5p to g3p and erythrose-4p \n",
    "    'TKT1',  # transketolase 1\n",
    "    'PFK_3',  # \n",
    "    'FBA3',  #\n",
    "    'TPI',  #\n",
    "    \n",
    "    #xylulose-5p and erythrose-4p to g3p and fructose-6p\n",
    "    'TKT2',  # transketolase 2\n",
    "]"
   ]
  },
  {
   "cell_type": "code",
   "execution_count": 26,
   "metadata": {},
   "outputs": [],
   "source": [
    "required_fluxes={}\n",
    "for reaction in xyl_ppp_reactions:\n",
    "    reaction_flux = v[reaction]\n",
    "    reaction_flux_margin = abs(reaction_flux*0.05)\n",
    "    required_fluxes[reaction] = [reaction_flux-reaction_flux_margin,reaction_flux+reaction_flux_margin]\n",
    "project.add_essential_pathway(\n",
    "    'xylose_WT_PPP',\n",
    "    description='WT pentose phosphate pathway flux on xylose',\n",
    "    reactions=xyl_ppp_reactions,\n",
    "    reaction_fluxes=required_fluxes\n",
    ")"
   ]
  },
  {
   "cell_type": "code",
   "execution_count": null,
   "metadata": {},
   "outputs": [],
   "source": [
    "\n",
    "#flux = dict(PYR=[0.5, 1000]) # Required flux for a given reaction id\n",
    "#project.add_essential_pathway('pathway_x', description='Example pathway', reactions=reactions, reaction_fluxes=flux)"
   ]
  },
  {
   "cell_type": "code",
   "execution_count": 18,
   "metadata": {},
   "outputs": [
    {
     "name": "stdout",
     "output_type": "stream",
     "text": [
      "EX_xyl__D_e: xyl__D_e <=>  -10.0\n"
     ]
    }
   ],
   "source": [
    "print(m_xyl.reactions.EX_xyl__D_e,v['EX_xyl__D_e'])"
   ]
  },
  {
   "cell_type": "code",
   "execution_count": 59,
   "metadata": {},
   "outputs": [
    {
     "name": "stdout",
     "output_type": "stream",
     "text": [
      "DXPS: g3p_c + h_c + pyr_c --> co2_c + dxyl5p_c 0.0022852836466661967\n",
      "FBA: fdp_c <=> dhap_c + g3p_c 0.659880002629821\n",
      "GAPD: g3p_c + nad_c + pi_c <=> 13dpg_c + h_c + nadh_c 13.66097720174148\n",
      "TKT1: r5p_c + xu5p__D_c <=> g3p_c + s7p_c 4.239662090558454\n",
      "TKT2: e4p_c + xu5p__D_c <=> f6p_c + g3p_c 3.932263629751758\n",
      "TPI: dhap_c <=> g3p_c 4.785635817711799\n",
      "TRPS3: 3ig3p_c --> g3p_c + indole_c 0.04582094473631282\n"
     ]
    },
    {
     "data": {
      "text/plain": [
       "[None, None, None, None, None, None, None]"
      ]
     },
     "execution_count": 59,
     "metadata": {},
     "output_type": "execute_result"
    }
   ],
   "source": [
    "met = 'g3p_c'\n",
    "[print(x,v[x.id]) for x in m.reactions if m.metabolites.get_by_id(met) in x.metabolites and v[x.id] != 0]"
   ]
  },
  {
   "cell_type": "code",
   "execution_count": 45,
   "metadata": {},
   "outputs": [
    {
     "name": "stdout",
     "output_type": "stream",
     "text": [
      "FBA3: s17bp_c <=> dhap_c + e4p_c 4.239662090558454\n",
      "PFK_3: atp_c + s7p_c --> adp_c + h_c + s17bp_c 4.239662090558454\n"
     ]
    },
    {
     "data": {
      "text/plain": [
       "[None, None]"
      ]
     },
     "execution_count": 45,
     "metadata": {},
     "output_type": "execute_result"
    }
   ],
   "source": [
    "met = 's17bp_c'\n",
    "[print(x,v[x.id]) for x in m.reactions if m.metabolites.get_by_id(met) in x.metabolites and v[x.id] != 0]"
   ]
  },
  {
   "cell_type": "code",
   "execution_count": 31,
   "metadata": {},
   "outputs": [
    {
     "ename": "SyntaxError",
     "evalue": "keyword can't be an expression (<ipython-input-31-665eba4ffd70>, line 1)",
     "output_type": "error",
     "traceback": [
      "\u001b[1;36m  File \u001b[1;32m\"<ipython-input-31-665eba4ffd70>\"\u001b[1;36m, line \u001b[1;32m1\u001b[0m\n\u001b[1;33m    dict(m.reactions.ABTA=[1,2])\u001b[0m\n\u001b[1;37m        ^\u001b[0m\n\u001b[1;31mSyntaxError\u001b[0m\u001b[1;31m:\u001b[0m keyword can't be an expression\n"
     ]
    }
   ],
   "source": [
    "dict(m.reactions.ABTA=[1,2])"
   ]
  },
  {
   "cell_type": "code",
   "execution_count": null,
   "metadata": {},
   "outputs": [],
   "source": []
  }
 ],
 "metadata": {
  "kernelspec": {
   "display_name": "Python 3",
   "language": "python",
   "name": "python3"
  },
  "language_info": {
   "codemirror_mode": {
    "name": "ipython",
    "version": 3
   },
   "file_extension": ".py",
   "mimetype": "text/x-python",
   "name": "python",
   "nbconvert_exporter": "python",
   "pygments_lexer": "ipython3",
   "version": "3.5.6"
  }
 },
 "nbformat": 4,
 "nbformat_minor": 4
}
