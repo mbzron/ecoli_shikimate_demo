{
 "cells": [
  {
   "cell_type": "markdown",
   "metadata": {},
   "source": [
    "# GSModutils demo\n",
    "## shikimate production in *E. coli*\n",
    "\n",
    "PROBLEMS/TODO LIST:\n",
    "\n",
    "TEST FILES NEED TO BE MANUALLY AMENDED BEFORE THEY WORK (WITH ADDITIONAL DICT LAYER)\n",
    "\n",
    "DAHMS PATHWAY TEST DOESN'T DETECT PATHWAY ACTIVITY, CONTRADICTING FBA SOLTION COMPUTED BELOW"
   ]
  },
  {
   "cell_type": "code",
   "execution_count": 1,
   "metadata": {},
   "outputs": [],
   "source": [
    "# (automatic reload for use with development of gsmodutils)\n",
    "%load_ext autoreload\n",
    "%autoreload"
   ]
  },
  {
   "cell_type": "code",
   "execution_count": 2,
   "metadata": {},
   "outputs": [],
   "source": [
    "from gsmodutils import GSMProject\n",
    "import cobra"
   ]
  },
  {
   "cell_type": "code",
   "execution_count": null,
   "metadata": {},
   "outputs": [],
   "source": [
    "# # Initialise the GSModutils project\n",
    "# # Note, running more than once will throw an error.\n",
    "# # Projects can't be created in the folder more than once.\n",
    "\n",
    "# model = cobra.io.load_json_model('./iJO166.json')\n",
    "# email_address = 'your_email@address.com'  # provide an email address\n",
    "# author_name = ''  # author's name\n",
    "\n",
    "# project = GSMProject.create_project(\n",
    "#     models=[model],\n",
    "#     description='Shikimate production in E. coli',\n",
    "#     author=author_name,\n",
    "#     author_email=email_address,\n",
    "#     project_path='.'  # use current directory\n",
    "# )"
   ]
  },
  {
   "cell_type": "code",
   "execution_count": 111,
   "metadata": {},
   "outputs": [],
   "source": [
    "project = GSMProject('.')  # load project from current directory"
   ]
  },
  {
   "cell_type": "code",
   "execution_count": 112,
   "metadata": {},
   "outputs": [],
   "source": [
    "m = project.model  # load model"
   ]
  },
  {
   "cell_type": "markdown",
   "metadata": {},
   "source": [
    "## First, define conditions under which *E. coli* strains will be grown..."
   ]
  },
  {
   "cell_type": "code",
   "execution_count": 113,
   "metadata": {},
   "outputs": [],
   "source": [
    "# glucose + xylose + M9 minimal media conditions (microaerobic)\n",
    "m.exchanges.get_by_id('EX_xyl__D_e').bounds = (-10,1000)  # allow xylose uptake\n",
    "m.reactions.get_by_id('EX_tyr__L_e').bounds = (-10,1000)  # allow tyrosine uptake\n",
    "m.reactions.get_by_id('EX_phe__L_e').bounds = (-10,1000)  # allow phenylalanine uptake\n",
    "m.reactions.get_by_id('EX_o2_e').bounds = (-0.1,0)  # microaerobic conditions\n",
    "m.reactions.get_by_id('EX_co2_e').bounds = (0,1000)  # co2 product only\n",
    "\n",
    "project.save_conditions(model=m, conditions_id='glc+xyl_M9_microaero')"
   ]
  },
  {
   "cell_type": "code",
   "execution_count": 114,
   "metadata": {},
   "outputs": [],
   "source": [
    "# glucose + xylose + M9 minimal media conditions (aerobic)\n",
    "m.reactions.get_by_id('EX_o2_e').bounds = (-1000,0)  # aerobic conditions\n",
    "\n",
    "project.save_conditions(model=m, conditions_id='glc+xyl_M9_aero')"
   ]
  },
  {
   "cell_type": "code",
   "execution_count": 115,
   "metadata": {},
   "outputs": [],
   "source": [
    "# glucose + M9 minimal media conditions (aerobic)\n",
    "m.exchanges.get_by_id('EX_xyl__D_e').bounds = (0,1000)  # block xylose uptake\n",
    "\n",
    "project.save_conditions(model=m, conditions_id='glc_M9_aero')"
   ]
  },
  {
   "cell_type": "code",
   "execution_count": 116,
   "metadata": {},
   "outputs": [],
   "source": [
    "# xylose + M9 minimal media conditions (aerobic)\n",
    "m.exchanges.get_by_id('EX_xyl__D_e').bounds = (-10,1000)  # allow xylose\n",
    "m.exchanges.get_by_id('EX_glc__D_e').bounds = (0,1000)  # block glucose uptake\n",
    "\n",
    "project.save_conditions(model=m, conditions_id='xyl_M9_aero')"
   ]
  },
  {
   "cell_type": "code",
   "execution_count": 117,
   "metadata": {},
   "outputs": [],
   "source": [
    "# create separate condition which includes malate\n",
    "m.exchanges.get_by_id('EX_mal__L_e').bounds = (-15,1000)  # allow malate uptake\n",
    "\n",
    "project.save_conditions(model=m, conditions_id='glc+xyl+mal_M9_microaero')"
   ]
  },
  {
   "cell_type": "markdown",
   "metadata": {},
   "source": [
    "To check whether these conditions support growth of the default model, <br>\n",
    "open a terminal, cd into the project directory and try running \n",
    "\n",
    "``` $ gsmodutils test```"
   ]
  },
  {
   "cell_type": "markdown",
   "metadata": {},
   "source": [
    "## Create the 'CTF5' mutant strain of *E. coli*..."
   ]
  },
  {
   "cell_type": "code",
   "execution_count": 118,
   "metadata": {},
   "outputs": [
    {
     "data": {
      "text/html": [
       "<table><tr> <td> <strong> metabolites </strong> </td> <td> 0 </td> </tr><tr> <td> <strong> reactions </strong> </td> <td> 325 </td> </tr><tr> <td> <strong> genes </strong> </td> <td> 0 </td> </tr><tr> <td> <strong> description </strong> </td> <td>  </td> </tr><tr> <td> <strong> parent </strong> </td> <td> None </td> </tr><tr> <td> <strong> id </strong> </td> <td> CTF5mal </td> </tr><tr> <td> <strong> name </strong> </td> <td> CTF5 base strain with malate </td> </tr></table>"
      ],
      "text/plain": [
       "< StraignDesign CTF5mal with 325 reactions, 0 genes and 0 metabolites>"
      ]
     },
     "execution_count": 118,
     "metadata": {},
     "output_type": "execute_result"
    }
   ],
   "source": [
    "# create E. coli CTF5 strain design\n",
    "# The CTF5 strain has disruptions in pts transport system and an amino-acid biosynthesis pathway (phenylalanine and tyrosine)\n",
    "aa_pathway_genes = list(m.reactions.PPNDH.genes)+list(m.reactions.PPND.genes)  # amino acid pathway genes (phe/tyr)\n",
    "pts_system_genes = list(m.reactions.GLCptspp.genes)  # genes encoding pts transport system genes\n",
    "\n",
    "gene_ko_list = aa_pathway_genes + pts_system_genes + list(m.reactions.PYK.genes)\n",
    "\n",
    "cobra.manipulation.delete_model_genes(m,gene_ko_list)\n",
    "\n",
    "# save ctf5 design\n",
    "project.save_design(m,\n",
    "                    'CTF5',\n",
    "                    'CTF5 base strain',\n",
    "                    conditions='glc+xyl_M9_microaero',\n",
    "                    base_model='iJO1366.json'\n",
    "                   )\n",
    "\n",
    "# save ctf5 strain with malate in the 'medium'\n",
    "project.save_design(m,\n",
    "                    'CTF5mal',\n",
    "                    'CTF5 base strain with malate',\n",
    "                    conditions='glc+xyl+mal_M9_microaero',\n",
    "                    base_model='iJO1366.json'\n",
    "                   )"
   ]
  },
  {
   "cell_type": "code",
   "execution_count": 119,
   "metadata": {},
   "outputs": [
    {
     "name": "stdout",
     "output_type": "stream",
     "text": [
      "CTF5 gorwth: 0.019464018902300633\n",
      "CTF5 growth with malate: 1.5616176489893787\n"
     ]
    }
   ],
   "source": [
    "# CAN A GSMODUTILS TEST BE WRITTEN FOR THIS BIT?\n",
    "# E.G. FAILS IF GROWTH RATE BELOW 0.05...\n",
    "ctf5 = project.load_design('CTF5')\n",
    "sol = ctf5.optimize()\n",
    "print('CTF5 gorwth:',sol.objective_value)  # very slow growth ~ 0.019\n",
    "ctf5 = project.load_design('CTF5mal')\n",
    "sol = ctf5.optimize()\n",
    "print('CTF5 growth with malate:',sol.objective_value)  # ~ growth restored when malate uptake allowed"
   ]
  },
  {
   "cell_type": "markdown",
   "metadata": {},
   "source": [
    "## Create 'G1' mutant..."
   ]
  },
  {
   "cell_type": "code",
   "execution_count": 120,
   "metadata": {},
   "outputs": [
    {
     "data": {
      "text/html": [
       "<table><tr> <td> <strong> metabolites </strong> </td> <td> 0 </td> </tr><tr> <td> <strong> reactions </strong> </td> <td> 35 </td> </tr><tr> <td> <strong> genes </strong> </td> <td> 0 </td> </tr><tr> <td> <strong> description </strong> </td> <td>  </td> </tr><tr> <td> <strong> parent </strong> </td> <td> None </td> </tr><tr> <td> <strong> id </strong> </td> <td> G1 </td> </tr><tr> <td> <strong> name </strong> </td> <td> ctf5 with additional KOs </td> </tr></table>"
      ],
      "text/plain": [
       "< StraignDesign G1 with 35 reactions, 0 genes and 0 metabolites>"
      ]
     },
     "execution_count": 120,
     "metadata": {},
     "output_type": "execute_result"
    }
   ],
   "source": [
    "# create G1 mutant\n",
    "eda_genes = list(ctf5.reactions.EDA.genes)\n",
    "pps_genes = list(ctf5.reactions.PPS.genes)\n",
    "ppc_genes = list(ctf5.reactions.PPC.genes)\n",
    "ppck_genes = list(ctf5.reactions.PPCK.genes)\n",
    "\n",
    "knockout_targets = eda_genes + pps_genes + ppc_genes + ppck_genes\n",
    "cobra.manipulation.delete_model_genes(ctf5,knockout_targets)\n",
    "project.save_design(ctf5,\n",
    "                    'G1',\n",
    "                    'ctf5 with additional KOs',\n",
    "                    conditions='glc+xyl_M9_microaero',\n",
    "                    base_model='iJO1366.json'\n",
    "                   )"
   ]
  },
  {
   "cell_type": "markdown",
   "metadata": {},
   "source": [
    "Now repeat the test run from the command line, what do the results say about the G1 strain?"
   ]
  },
  {
   "cell_type": "markdown",
   "metadata": {},
   "source": [
    "## Create 'G1x' mutant by adding the 'Dahms' pathway..."
   ]
  },
  {
   "cell_type": "code",
   "execution_count": 121,
   "metadata": {},
   "outputs": [],
   "source": [
    "# make a function to easily add new reactions to a cobra model\n",
    "def add_new_reaction(m,reaction_id,stoich_dict,compartment='c'):\n",
    "    reaction_dict = {}\n",
    "    model_metabolite_ids = [\n",
    "        x.id for x in m.metabolites\n",
    "    ]\n",
    "    for metabolite_id in stoich_dict.keys():\n",
    "        if metabolite_id[-2:] == '_e':\n",
    "            compartment = 'e'\n",
    "        if metabolite_id in model_metabolite_ids:\n",
    "            metabolite = m.metabolites.get_by_id(metabolite_id)\n",
    "            reaction_dict[metabolite] = stoich_dict[metabolite_id]\n",
    "        else:\n",
    "            metabolite = cobra.Metabolite(metabolite_id,compartment=compartment)\n",
    "            reaction_dict[metabolite] = stoich_dict[metabolite_id]\n",
    "    reaction = cobra.Reaction(reaction_id)\n",
    "    reaction.add_metabolites(reaction_dict)\n",
    "    m.add_reactions([reaction])"
   ]
  },
  {
   "cell_type": "code",
   "execution_count": 132,
   "metadata": {},
   "outputs": [],
   "source": [
    "g1 = project.load_design('G1')  # load G1 design"
   ]
  },
  {
   "cell_type": "code",
   "execution_count": 133,
   "metadata": {},
   "outputs": [
    {
     "name": "stdout",
     "output_type": "stream",
     "text": [
      "xdh: nad_c + xyl__D_c --> h_c + nadh_c + xylonolactone_c\n"
     ]
    }
   ],
   "source": [
    "# define xylose dehydrogenase (xdh)\n",
    "xdh_stoich_dict = {\n",
    "    # substrates\n",
    "    'xyl__D_c': -1,\n",
    "    'nad_c': -1,\n",
    "    # products\n",
    "    'xylonolactone_c': 1,\n",
    "    'nadh_c': 1,\n",
    "    'h_c': 1\n",
    "}\n",
    "add_new_reaction(g1,'xdh',xdh_stoich_dict)\n",
    "print(g1.reactions.xdh)"
   ]
  },
  {
   "cell_type": "code",
   "execution_count": 134,
   "metadata": {},
   "outputs": [
    {
     "name": "stdout",
     "output_type": "stream",
     "text": [
      "xylC: h2o_c + xylonolactone_c --> h_c + xylonate_c\n"
     ]
    }
   ],
   "source": [
    "# define xylonolactonase (xylC)\n",
    "xylC_stoich_dict = {\n",
    "    # substrates\n",
    "    'xylonolactone_c': -1,\n",
    "    'h2o_c': -1,\n",
    "    # products\n",
    "    'xylonate_c': 1,\n",
    "    'h_c': 1\n",
    "}\n",
    "add_new_reaction(g1,'xylC',xylC_stoich_dict)\n",
    "print(g1.reactions.xylC)"
   ]
  },
  {
   "cell_type": "code",
   "execution_count": 135,
   "metadata": {},
   "outputs": [
    {
     "name": "stdout",
     "output_type": "stream",
     "text": [
      "yjhG: xylonate_c --> dehydrodeoxylonate_c + h2o_c\n"
     ]
    }
   ],
   "source": [
    "# define xylonate dehydratase\n",
    "stoich_dict = {\n",
    "    'xylonate_c': -1,\n",
    "    'h2o_c': 1,\n",
    "    'dehydrodeoxylonate_c': 1\n",
    "}\n",
    "add_new_reaction(g1,'yjhG',stoich_dict)\n",
    "print(g1.reactions.yjhG)"
   ]
  },
  {
   "cell_type": "code",
   "execution_count": 136,
   "metadata": {},
   "outputs": [
    {
     "name": "stdout",
     "output_type": "stream",
     "text": [
      "yjhH: dehydrodeoxylonate_c --> gcald_c + pyr_c\n"
     ]
    }
   ],
   "source": [
    "# define aldolase\n",
    "stoich_dict = {\n",
    "    'dehydrodeoxylonate_c': -1,\n",
    "    'pyr_c': 1,\n",
    "    'gcald_c': 1\n",
    "}\n",
    "add_new_reaction(g1,'yjhH',stoich_dict)\n",
    "print(g1.reactions.yjhH)"
   ]
  },
  {
   "cell_type": "code",
   "execution_count": 137,
   "metadata": {},
   "outputs": [],
   "source": [
    "# define a list of the Dahms pathway reaction IDs\n",
    "dahms_pathway_reactions = [\n",
    "    'xdh',\n",
    "    'xylC',\n",
    "    'yjhG',\n",
    "    'yjhH'\n",
    "]"
   ]
  },
  {
   "cell_type": "code",
   "execution_count": 140,
   "metadata": {},
   "outputs": [],
   "source": [
    "# make shikimate transport reversible, rather than 'uptake-only'\n",
    "g1.reactions.SKMt2pp.bounds = (-1000,1000)\n",
    "g1.reactions.get_by_id('EX_o2_e').bounds = (-1000,0)  # aerobic conditions"
   ]
  },
  {
   "cell_type": "code",
   "execution_count": 141,
   "metadata": {},
   "outputs": [
    {
     "data": {
      "text/html": [
       "<table><tr> <td> <strong> metabolites </strong> </td> <td> 3 </td> </tr><tr> <td> <strong> reactions </strong> </td> <td> 40 </td> </tr><tr> <td> <strong> genes </strong> </td> <td> 0 </td> </tr><tr> <td> <strong> description </strong> </td> <td>  </td> </tr><tr> <td> <strong> parent </strong> </td> <td> None </td> </tr><tr> <td> <strong> id </strong> </td> <td> G1x </td> </tr><tr> <td> <strong> name </strong> </td> <td> G1 with Dahms pathway </td> </tr></table>"
      ],
      "text/plain": [
       "< StraignDesign G1x with 40 reactions, 0 genes and 3 metabolites>"
      ]
     },
     "execution_count": 141,
     "metadata": {},
     "output_type": "execute_result"
    }
   ],
   "source": [
    "# create G1x mutant design\n",
    "project.save_design(g1,\n",
    "                    'G1x',\n",
    "                    'G1 with Dahms pathway',\n",
    "                    conditions='glc+xyl_M9_aero',\n",
    "                    base_model='iJO1366.json'\n",
    "                   )"
   ]
  },
  {
   "cell_type": "code",
   "execution_count": 142,
   "metadata": {},
   "outputs": [],
   "source": [
    "g1x = project.load_design('G1x')"
   ]
  },
  {
   "cell_type": "code",
   "execution_count": 146,
   "metadata": {},
   "outputs": [
    {
     "name": "stdout",
     "output_type": "stream",
     "text": [
      "growth: 1.7718192826997718\n",
      "xdh 5.243447568811833\n",
      "xylC 5.243447568811833\n",
      "yjhG 5.243447568811833\n",
      "yjhH 5.243447568811833\n",
      "EX_cobalt2_e: cobalt2_e <=>  -4.4295482067494296e-05\n",
      "EX_h_e: h_e <=>  15.706908624602264\n",
      "EX_h2o_e: h2o_e <=>  86.35491929591316\n",
      "EX_k_e: k_e <=>  -0.3458467212480166\n",
      "EX_cu2_e: cu2_e <=>  -0.0012562198714341382\n",
      "EX_meoh_e: meoh_e -->  3.5436385653995436e-06\n",
      "EX_mg2_e: mg2_e <=>  -0.015370532277420522\n",
      "EX_mn2_e: mn2_e <=>  -0.0012243271243455422\n",
      "EX_mobd_e: mobd_e <=>  -0.00022856468746827055\n",
      "EX_nh4_e: nh4_e <=>  -18.564130225329794\n",
      "EX_ca2_e: ca2_e <=>  -0.009222319366452313\n",
      "EX_ni2_e: ni2_e <=>  -0.0005722976283120263\n",
      "EX_cl_e: cl_e <=>  -0.009222319366452313\n",
      "EX_pi_e: pi_e <=>  -1.7091518064899376\n",
      "EX_zn2_e: zn2_e <=>  -0.0006041903754006222\n",
      "EX_so4_e: so4_e <=>  -0.4468705412897089\n",
      "EX_fe2_e: fe2_e <=>  -0.02845718949944103\n",
      "EX_co2_e: co2_e -->  42.42648022374612\n",
      "EX_glc__D_e: glc__D_e <=>  -10.0\n",
      "EX_o2_e: o2_e <--  -39.096201478640296\n",
      "EX_phe__L_e: phe__L_e <=>  -0.3282560994093733\n",
      "EX_xyl__D_e: xyl__D_e <=>  -10.0\n",
      "EX_tyr__L_e: tyr__L_e <=>  -0.24472190750720976\n"
     ]
    }
   ],
   "source": [
    "## BUG? test_Dahms seems unable to reproduce this result\n",
    "# compute an FBA solution to see if g1x grows, and check if Dahms pathway is active\n",
    "sol = g1x.optimize()\n",
    "v = sol.fluxes\n",
    "print('growth:',v['BIOMASS_Ec_iJO1366_core_53p95M'])\n",
    "for reaction in dahms_pathway_reactions:\n",
    "    print(reaction,v[reaction])\n",
    "\n",
    "    # display active transport fluxes\n",
    "for ex in g1x.exchanges:\n",
    "    if abs(v[ex.id]) > 1e-10:\n",
    "        print(ex,v[ex.id])"
   ]
  },
  {
   "cell_type": "markdown",
   "metadata": {},
   "source": [
    "## Create 'essential pathway' tests to monitor key pathways..."
   ]
  },
  {
   "cell_type": "code",
   "execution_count": null,
   "metadata": {},
   "outputs": [],
   "source": [
    "# define a list of reaction IDs for reactions involved in the TCA cycle (aka 'Citric Acid Cycle')\n",
    "tca_cycle = [\n",
    "    x.id for x in g1x.reactions\n",
    "    if x.subsystem == 'Citric Acid Cycle'\n",
    "]\n",
    "# add an essential pathway test to monitor TCA cycle reactions\n",
    "project.add_essential_pathway(\n",
    "    'TCA',\n",
    "    tca_cycle,\n",
    "    'reactions of the tca cycle',\n",
    "    conditions=[\n",
    "        'glc+xyl_M9_aero',\n",
    "        'glc_M9_aero',\n",
    "        'xyl_M9_aero'],\n",
    "    designs=[\n",
    "        \"G1x\"\n",
    "    ]\n",
    ")"
   ]
  },
  {
   "cell_type": "code",
   "execution_count": 145,
   "metadata": {},
   "outputs": [],
   "source": [
    "# add an essential pathway test to monitor Dahms pathway reactions\n",
    "project.add_essential_pathway(\n",
    "    'Dahms',\n",
    "    dahms_pathway_reactions,\n",
    "    'reactions in Dahms pathway',\n",
    "    conditions=[\n",
    "        'glc+xyl_M9_aero',\n",
    "        'glc_M9_aero',\n",
    "        'xyl_M9_aero'],\n",
    "    designs=[\n",
    "        \"G1x\"\n",
    "    ]\n",
    ")"
   ]
  },
  {
   "cell_type": "markdown",
   "metadata": {},
   "source": [
    "the above commands create test-files written to the test directory as test_TCA and test_Dahms."
   ]
  },
  {
   "cell_type": "markdown",
   "metadata": {},
   "source": [
    "## Test shikimate production in G1x strain..."
   ]
  },
  {
   "cell_type": "code",
   "execution_count": 148,
   "metadata": {},
   "outputs": [
    {
     "name": "stdout",
     "output_type": "stream",
     "text": [
      "solver status: optimal\n",
      "growth: 1.6519053443710339\n"
     ]
    }
   ],
   "source": [
    "g1x.exchanges.EX_skm_e.bounds = (1,1000)  # shikimate efflux fixed\n",
    "# g1x.reactions.SKMt2pp.bounds = (-1000,1000)  # make shikimate transport reversible, rather than 'uptake-only'\n",
    "g1x.objective = 'BIOMASS_Ec_iJO1366_core_53p95M'\n",
    "sol = g1x.optimize()\n",
    "print('solver status:',sol.status)\n",
    "print('growth:',sol.objective_value)\n",
    "\n",
    "# # show active exchange reactions\n",
    "# v = sol.fluxes  \n",
    "# for ex in g1x.exchanges:\n",
    "#     if abs(v[ex.id]) > 1e-10:\n",
    "#         print(ex,v[ex.id])"
   ]
  },
  {
   "cell_type": "code",
   "execution_count": 149,
   "metadata": {},
   "outputs": [
    {
     "data": {
      "text/html": [
       "<table><tr> <td> <strong> metabolites </strong> </td> <td> 3 </td> </tr><tr> <td> <strong> reactions </strong> </td> <td> 41 </td> </tr><tr> <td> <strong> genes </strong> </td> <td> 0 </td> </tr><tr> <td> <strong> description </strong> </td> <td>  </td> </tr><tr> <td> <strong> parent </strong> </td> <td> None </td> </tr><tr> <td> <strong> id </strong> </td> <td> G1x_skm_xyl </td> </tr><tr> <td> <strong> name </strong> </td> <td> G1 with Dahms pathway and shikimate efflux lower bound (xyl) </td> </tr></table>"
      ],
      "text/plain": [
       "< StraignDesign G1x_skm_xyl with 41 reactions, 0 genes and 3 metabolites>"
      ]
     },
     "execution_count": 149,
     "metadata": {},
     "output_type": "execute_result"
    }
   ],
   "source": [
    "# create some designs with shikimate production lower bound\n",
    "project.save_design(g1x,\n",
    "                    'G1x_skm_glcxyl',  \n",
    "                    'G1 with Dahms pathway and shikimate efflux lower bound (glc+xyl)',\n",
    "                    conditions='glc+xyl_M9_aero',  # glucose and xylose\n",
    "                    base_model='iJO1366.json'\n",
    "                   )\n",
    "\n",
    "project.save_design(g1x,\n",
    "                    'G1x_skm_glc',  # \n",
    "                    'G1 with Dahms pathway and shikimate efflux lower bound (glc)',\n",
    "                    conditions='glc_M9_aero',  # glucose\n",
    "                    base_model='iJO1366.json'\n",
    "                   )\n",
    "\n",
    "project.save_design(g1x,\n",
    "                    'G1x_skm_xyl',\n",
    "                    'G1 with Dahms pathway and shikimate efflux lower bound (xyl)',\n",
    "                    conditions='xyl_M9_aero',  # xylose\n",
    "                    base_model='iJO1366.json'\n",
    "                   )"
   ]
  },
  {
   "cell_type": "code",
   "execution_count": 151,
   "metadata": {},
   "outputs": [],
   "source": [
    "# designs with shikimate-maximizing objective should be tested for shikimate production under different conditions\n",
    "project.add_essential_pathway(\n",
    "    'shikimate_production',\n",
    "    description='test if shikimate boundary is active in efflux direction (minimum 0.01 efflux)',\n",
    "    reactions=[],\n",
    "    reaction_fluxes={\n",
    "        'EX_skm_e': (0.01, 1000)\n",
    "    },\n",
    "    conditions=[\n",
    "        'glc_M9_aero',\n",
    "        'xyl_M9_aero',\n",
    "        'glc+xyl_M9_aero'\n",
    "    ],\n",
    "    designs=[\n",
    "        'G1x_skm_xyl',\n",
    "        'G1x_skm_glc',\n",
    "        'G1x_skm_glcxyl'\n",
    "    ],\n",
    "    models=['iJO1366.json'] \n",
    ")"
   ]
  },
  {
   "cell_type": "code",
   "execution_count": null,
   "metadata": {},
   "outputs": [],
   "source": [
    "# Had to run the following command to get gsmodutils shell commands to work:\n",
    "# set PATH=%PATH%;C:\\Users\\Admin\\AppData\\Roaming\\Python\\Python35\\Scripts"
   ]
  },
  {
   "cell_type": "code",
   "execution_count": null,
   "metadata": {},
   "outputs": [],
   "source": [
    "# m.metabolites.get_by_id('tyr__L_e').bounds = (-1000,1000)  # allow tyrosine uptake\n",
    "# m.metabolites.get_by_id('trp__L_e').bounds = (-1000,1000)  # allow tryptophan uptake\n",
    "# m.metabolites.get_by_id('phe__L_c').bounds = (-1000,1000)  # allow phenylalanine uptake"
   ]
  },
  {
   "cell_type": "code",
   "execution_count": null,
   "metadata": {},
   "outputs": [],
   "source": [
    "# m.exchanges.get_by_id('EX_xyl__D_e').bounds = (-10,1000)  # allow xylose uptake\n",
    "# sol = m.optimize()\n",
    "# print('growth rate (glc+xyl):',sol.objective_value)\n",
    "# project.save_conditions(model=m, conditions_id='glc_and_xyl_growth')"
   ]
  },
  {
   "cell_type": "code",
   "execution_count": null,
   "metadata": {},
   "outputs": [],
   "source": [
    "# m.exchanges.get_by_id('EX_glc__D_e').bounds = (0,1000)  # prevent glucose uptake\n",
    "# sol = m.optimize()\n",
    "# print('growth rate (xyl):',sol.objective_value)\n",
    "# project.save_conditions(m, 'xyl_growth')"
   ]
  },
  {
   "cell_type": "code",
   "execution_count": null,
   "metadata": {},
   "outputs": [],
   "source": [
    "# m.exchanges.get_by_id('EX_glc__D_e').bounds = (-10,1000)  # allow glucose uptake\n",
    "# sol = m.optimize()\n",
    "\n",
    "# project.save_conditions(model=m, conditions_id='M9_glc_and_xyl')"
   ]
  },
  {
   "cell_type": "code",
   "execution_count": null,
   "metadata": {},
   "outputs": [],
   "source": [
    "# # next we want to look at the pathways involved in xylose utilisation\n",
    "# # authors want \"...a xylose catabolic pathway that directly flows into the \n",
    "# # TCA cycle without interfering glycolysis and PPP...\"\n",
    "# m_xyl = project.load_conditions('xyl_growth',m)"
   ]
  },
  {
   "cell_type": "code",
   "execution_count": null,
   "metadata": {},
   "outputs": [],
   "source": [
    "# sol = m_xyl.optimize()"
   ]
  },
  {
   "cell_type": "code",
   "execution_count": null,
   "metadata": {},
   "outputs": [],
   "source": [
    "# v = sol.fluxes"
   ]
  },
  {
   "cell_type": "code",
   "execution_count": null,
   "metadata": {},
   "outputs": [],
   "source": [
    "# # model reactions involved in the pentose phosphate pathway\n",
    "# xyl_ppp_reactions = [\n",
    "#     'XYLI1',  # xylose isomerase\n",
    "#     'XYLK',  # xylose kinase\n",
    "    \n",
    "#     #xylulose-5p and fructose-6p to ribose-5p\n",
    "#     'RPE',  # ribose phosphate isomerase\n",
    "#     'RPI',  # ribose phoshpate epimerase\n",
    "#     'GND',  #\n",
    "#     'PGL',  #\n",
    "#     'G6PDH2r',  #\n",
    "#     'PGI',  #\n",
    "    \n",
    "#     #xylulose-5p and ribose-5p to g3p and erythrose-4p \n",
    "#     'TKT1',  # transketolase 1\n",
    "#     'PFK_3',  # \n",
    "#     'FBA3',  #\n",
    "#     'TPI',  #\n",
    "    \n",
    "#     #xylulose-5p and erythrose-4p to g3p and fructose-6p\n",
    "#     'TKT2',  # transketolase 2\n",
    "# ]"
   ]
  },
  {
   "cell_type": "code",
   "execution_count": null,
   "metadata": {},
   "outputs": [],
   "source": [
    "# # display fluxes of the PPP reactions when xylose is the carbon/energy source\n",
    "# for reaction in xyl_ppp_reactions:\n",
    "#     print(reaction,v[reaction])"
   ]
  },
  {
   "cell_type": "code",
   "execution_count": null,
   "metadata": {},
   "outputs": [],
   "source": [
    "# # we want to monitor the activity of this pathway, so an 'essential pathway' test is made\n",
    "# # write essential pathway test, where fluxes must be within 5% of the current flux distribution\n",
    "\n",
    "# # store reaction flux ranges in dictionary\n",
    "# required_fluxes={}\n",
    "# for reaction in xyl_ppp_reactions:\n",
    "#     reaction_flux = v[reaction]\n",
    "#     reaction_flux_margin = abs(reaction_flux*0.05)\n",
    "#     required_fluxes[reaction] = [reaction_flux-reaction_flux_margin,reaction_flux+reaction_flux_margin]\n",
    "\n",
    "# # write test file\n",
    "# project.add_essential_pathway(\n",
    "#     'xylose_WT_PPP',\n",
    "#     description='WT pentose phosphate pathway flux on xylose',\n",
    "#     reactions=[],\n",
    "#     reaction_fluxes=required_fluxes,\n",
    "#     conditions=['xyl_growth'],\n",
    "#     models=['iJO1366.json']\n",
    "# )"
   ]
  },
  {
   "cell_type": "code",
   "execution_count": null,
   "metadata": {},
   "outputs": [],
   "source": [
    "# m_xyl_glc = project.load_conditions('glc_and_xyl_growth')"
   ]
  },
  {
   "cell_type": "code",
   "execution_count": null,
   "metadata": {},
   "outputs": [],
   "source": [
    "# m_xyl_glc"
   ]
  },
  {
   "cell_type": "code",
   "execution_count": null,
   "metadata": {},
   "outputs": [],
   "source": [
    "# sol = m_xyl_glc.optimize()"
   ]
  },
  {
   "cell_type": "code",
   "execution_count": null,
   "metadata": {},
   "outputs": [],
   "source": [
    "# v = sol.fluxes"
   ]
  },
  {
   "cell_type": "code",
   "execution_count": null,
   "metadata": {},
   "outputs": [],
   "source": [
    "# # this time get ppp flux for glc+xyl solution\n",
    "# required_fluxes = {}\n",
    "# for reaction in xyl_ppp_reactions:\n",
    "#     if reaction in v.keys():\n",
    "#         reaction_flux = v[reaction]\n",
    "#         reaction_flux_margin = abs(reaction_flux*0.05)\n",
    "#         required_fluxes[reaction] = [reaction_flux-reaction_flux_margin,reaction_flux+reaction_flux_margin]\n",
    "#         print(reaction,reaction_flux-reaction_flux_margin,reaction_flux,reaction_flux+reaction_flux_margin)\n",
    "# # write another test file\n",
    "# # project.add_essential_pathway(\n",
    "# #     'glucose_xylose_WT_PPP',\n",
    "# #     description='WT pentose phosphate pathway flux on glucose and xylose',\n",
    "# #     reactions=[],\n",
    "# #     reaction_fluxes=required_fluxes,\n",
    "# #     conditions=['glc_and_xyl_growth'],\n",
    "# #     models=['iJO1366.json']\n",
    "# # )"
   ]
  },
  {
   "cell_type": "code",
   "execution_count": null,
   "metadata": {},
   "outputs": [],
   "source": [
    "# project.save_design(m_xyl_glc,\n",
    "#                     'PK_PTS_KO',\n",
    "#                     'pyruvate kinase and PTS knock-out',\n",
    "#                     conditions='glc_and_xyl_growth',\n",
    "#                     base_model='iJO1366.json'\n",
    "#                    )"
   ]
  }
 ],
 "metadata": {
  "kernelspec": {
   "display_name": "Python 3",
   "language": "python",
   "name": "python3"
  },
  "language_info": {
   "codemirror_mode": {
    "name": "ipython",
    "version": 3
   },
   "file_extension": ".py",
   "mimetype": "text/x-python",
   "name": "python",
   "nbconvert_exporter": "python",
   "pygments_lexer": "ipython3",
   "version": "3.5.6"
  }
 },
 "nbformat": 4,
 "nbformat_minor": 4
}
